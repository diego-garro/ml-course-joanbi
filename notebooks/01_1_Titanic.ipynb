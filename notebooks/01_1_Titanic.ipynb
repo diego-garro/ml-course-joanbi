{
 "cells": [
  {
   "cell_type": "markdown",
   "metadata": {},
   "source": [
    "# Carga de datos a través de la función read_csv"
   ]
  },
  {
   "cell_type": "code",
   "execution_count": 1,
   "metadata": {},
   "outputs": [],
   "source": [
    "%config IPCompleter.greedy=True\n",
    "\n",
    "import pandas as pd\n",
    "import os"
   ]
  },
  {
   "cell_type": "code",
   "execution_count": 2,
   "metadata": {},
   "outputs": [],
   "source": [
    "mainpath = \"/home/diego/Development/machine-learning/curso-joanbi/python-ml-course/datasets/\"\n",
    "filename = \"titanic/titanic3.csv\"\n",
    "fullpath = os.path.join(mainpath, filename)"
   ]
  },
  {
   "cell_type": "code",
   "execution_count": 3,
   "metadata": {},
   "outputs": [],
   "source": [
    "data = pd.read_csv(fullpath)"
   ]
  },
  {
   "cell_type": "code",
   "execution_count": 4,
   "metadata": {},
   "outputs": [
    {
     "output_type": "execute_result",
     "data": {
      "text/plain": [
       "   pclass  survived                                             name     sex  \\\n",
       "0       1         1                    Allen, Miss. Elisabeth Walton  female   \n",
       "1       1         1                   Allison, Master. Hudson Trevor    male   \n",
       "2       1         0                     Allison, Miss. Helen Loraine  female   \n",
       "3       1         0             Allison, Mr. Hudson Joshua Creighton    male   \n",
       "4       1         0  Allison, Mrs. Hudson J C (Bessie Waldo Daniels)  female   \n",
       "\n",
       "       age  sibsp  parch  ticket      fare    cabin embarked boat   body  \\\n",
       "0  29.0000      0      0   24160  211.3375       B5        S    2    NaN   \n",
       "1   0.9167      1      2  113781  151.5500  C22 C26        S   11    NaN   \n",
       "2   2.0000      1      2  113781  151.5500  C22 C26        S  NaN    NaN   \n",
       "3  30.0000      1      2  113781  151.5500  C22 C26        S  NaN  135.0   \n",
       "4  25.0000      1      2  113781  151.5500  C22 C26        S  NaN    NaN   \n",
       "\n",
       "                         home.dest  \n",
       "0                     St Louis, MO  \n",
       "1  Montreal, PQ / Chesterville, ON  \n",
       "2  Montreal, PQ / Chesterville, ON  \n",
       "3  Montreal, PQ / Chesterville, ON  \n",
       "4  Montreal, PQ / Chesterville, ON  "
      ],
      "text/html": "<div>\n<style scoped>\n    .dataframe tbody tr th:only-of-type {\n        vertical-align: middle;\n    }\n\n    .dataframe tbody tr th {\n        vertical-align: top;\n    }\n\n    .dataframe thead th {\n        text-align: right;\n    }\n</style>\n<table border=\"1\" class=\"dataframe\">\n  <thead>\n    <tr style=\"text-align: right;\">\n      <th></th>\n      <th>pclass</th>\n      <th>survived</th>\n      <th>name</th>\n      <th>sex</th>\n      <th>age</th>\n      <th>sibsp</th>\n      <th>parch</th>\n      <th>ticket</th>\n      <th>fare</th>\n      <th>cabin</th>\n      <th>embarked</th>\n      <th>boat</th>\n      <th>body</th>\n      <th>home.dest</th>\n    </tr>\n  </thead>\n  <tbody>\n    <tr>\n      <th>0</th>\n      <td>1</td>\n      <td>1</td>\n      <td>Allen, Miss. Elisabeth Walton</td>\n      <td>female</td>\n      <td>29.0000</td>\n      <td>0</td>\n      <td>0</td>\n      <td>24160</td>\n      <td>211.3375</td>\n      <td>B5</td>\n      <td>S</td>\n      <td>2</td>\n      <td>NaN</td>\n      <td>St Louis, MO</td>\n    </tr>\n    <tr>\n      <th>1</th>\n      <td>1</td>\n      <td>1</td>\n      <td>Allison, Master. Hudson Trevor</td>\n      <td>male</td>\n      <td>0.9167</td>\n      <td>1</td>\n      <td>2</td>\n      <td>113781</td>\n      <td>151.5500</td>\n      <td>C22 C26</td>\n      <td>S</td>\n      <td>11</td>\n      <td>NaN</td>\n      <td>Montreal, PQ / Chesterville, ON</td>\n    </tr>\n    <tr>\n      <th>2</th>\n      <td>1</td>\n      <td>0</td>\n      <td>Allison, Miss. Helen Loraine</td>\n      <td>female</td>\n      <td>2.0000</td>\n      <td>1</td>\n      <td>2</td>\n      <td>113781</td>\n      <td>151.5500</td>\n      <td>C22 C26</td>\n      <td>S</td>\n      <td>NaN</td>\n      <td>NaN</td>\n      <td>Montreal, PQ / Chesterville, ON</td>\n    </tr>\n    <tr>\n      <th>3</th>\n      <td>1</td>\n      <td>0</td>\n      <td>Allison, Mr. Hudson Joshua Creighton</td>\n      <td>male</td>\n      <td>30.0000</td>\n      <td>1</td>\n      <td>2</td>\n      <td>113781</td>\n      <td>151.5500</td>\n      <td>C22 C26</td>\n      <td>S</td>\n      <td>NaN</td>\n      <td>135.0</td>\n      <td>Montreal, PQ / Chesterville, ON</td>\n    </tr>\n    <tr>\n      <th>4</th>\n      <td>1</td>\n      <td>0</td>\n      <td>Allison, Mrs. Hudson J C (Bessie Waldo Daniels)</td>\n      <td>female</td>\n      <td>25.0000</td>\n      <td>1</td>\n      <td>2</td>\n      <td>113781</td>\n      <td>151.5500</td>\n      <td>C22 C26</td>\n      <td>S</td>\n      <td>NaN</td>\n      <td>NaN</td>\n      <td>Montreal, PQ / Chesterville, ON</td>\n    </tr>\n  </tbody>\n</table>\n</div>"
     },
     "metadata": {},
     "execution_count": 4
    }
   ],
   "source": [
    "data.head()"
   ]
  },
  {
   "cell_type": "code",
   "execution_count": 5,
   "metadata": {},
   "outputs": [
    {
     "output_type": "execute_result",
     "data": {
      "text/plain": [
       "array(['pclass', 'survived', 'name', 'sex', 'age', 'sibsp', 'parch',\n",
       "       'ticket', 'fare', 'cabin', 'embarked', 'boat', 'body', 'home.dest'],\n",
       "      dtype=object)"
      ]
     },
     "metadata": {},
     "execution_count": 5
    }
   ],
   "source": [
    "data.columns.values"
   ]
  },
  {
   "cell_type": "code",
   "execution_count": 6,
   "metadata": {},
   "outputs": [
    {
     "output_type": "execute_result",
     "data": {
      "text/plain": [
       "array(['A', 'B', 'C', 'D', 'E', 'F', 'G', 'H', 'I', 'J', 'K', 'L', 'M',\n",
       "       'N', 'O', 'P', 'Q', 'R', 'S', 'T', 'U'], dtype=object)"
      ]
     },
     "metadata": {},
     "execution_count": 6
    }
   ],
   "source": [
    "data_cols = pd.read_csv(mainpath + \"customer-churn-model/Customer Churn Columns.csv\")\n",
    "data_cols_list = data_cols[\"Column_Names\"].tolist()\n",
    "#data_cols_list\n",
    "data2 = pd.read_csv(mainpath + \"customer-churn-model/Customer Churn Model.txt\", header=None, names=data_cols_list)\n",
    "data2.columns.values"
   ]
  },
  {
   "cell_type": "markdown",
   "metadata": {},
   "source": [
    "# Carga de datos a través de la función open"
   ]
  },
  {
   "cell_type": "code",
   "execution_count": 7,
   "metadata": {},
   "outputs": [],
   "source": [
    "data3 = open(mainpath + \"customer-churn-model/Customer Churn Model.txt\", \"r\")"
   ]
  },
  {
   "cell_type": "code",
   "execution_count": 8,
   "metadata": {},
   "outputs": [
    {
     "output_type": "execute_result",
     "data": {
      "text/plain": [
       "['State',\n",
       " 'Account Length',\n",
       " 'Area Code',\n",
       " 'Phone',\n",
       " \"Int'l Plan\",\n",
       " 'VMail Plan',\n",
       " 'VMail Message',\n",
       " 'Day Mins',\n",
       " 'Day Calls',\n",
       " 'Day Charge',\n",
       " 'Eve Mins',\n",
       " 'Eve Calls',\n",
       " 'Eve Charge',\n",
       " 'Night Mins',\n",
       " 'Night Calls',\n",
       " 'Night Charge',\n",
       " 'Intl Mins',\n",
       " 'Intl Calls',\n",
       " 'Intl Charge',\n",
       " 'CustServ Calls',\n",
       " 'Churn?']"
      ]
     },
     "metadata": {},
     "execution_count": 8
    }
   ],
   "source": [
    "cols = data3.__next__().strip().split(\",\")\n",
    "cols"
   ]
  },
  {
   "cell_type": "code",
   "execution_count": 9,
   "metadata": {},
   "outputs": [],
   "source": [
    "counter = 0\n",
    "main_dict = {}\n",
    "for col in cols:\n",
    "    main_dict[col] = []"
   ]
  },
  {
   "cell_type": "code",
   "execution_count": 10,
   "metadata": {},
   "outputs": [
    {
     "output_type": "stream",
     "name": "stdout",
     "text": [
      "El dataset tiene 3333 filas y 21 columnas\n"
     ]
    }
   ],
   "source": [
    "for line in data3:\n",
    "    values = line.strip().split(\",\")\n",
    "    for i in range(len(cols)):\n",
    "        main_dict[cols[i]].append(values[i])\n",
    "    counter += 1\n",
    "print(f\"El dataset tiene {counter} filas y {len(cols)} columnas\")"
   ]
  },
  {
   "cell_type": "code",
   "execution_count": 11,
   "metadata": {},
   "outputs": [
    {
     "output_type": "execute_result",
     "data": {
      "text/plain": [
       "  State Account Length Area Code     Phone Int'l Plan VMail Plan  \\\n",
       "0    KS            128       415  382-4657         no        yes   \n",
       "1    OH            107       415  371-7191         no        yes   \n",
       "2    NJ            137       415  358-1921         no         no   \n",
       "3    OH             84       408  375-9999        yes         no   \n",
       "4    OK             75       415  330-6626        yes         no   \n",
       "\n",
       "  VMail Message Day Mins Day Calls Day Charge  ... Eve Calls Eve Charge  \\\n",
       "0            25    265.1       110      45.07  ...        99      16.78   \n",
       "1            26    161.6       123      27.47  ...       103      16.62   \n",
       "2             0    243.4       114      41.38  ...       110      10.30   \n",
       "3             0    299.4        71      50.90  ...        88       5.26   \n",
       "4             0    166.7       113      28.34  ...       122      12.61   \n",
       "\n",
       "  Night Mins Night Calls Night Charge Intl Mins Intl Calls Intl Charge  \\\n",
       "0      244.7          91        11.01      10.0          3        2.70   \n",
       "1      254.4         103        11.45      13.7          3        3.70   \n",
       "2      162.6         104         7.32      12.2          5        3.29   \n",
       "3      196.9          89         8.86       6.6          7        1.78   \n",
       "4      186.9         121         8.41      10.1          3        2.73   \n",
       "\n",
       "  CustServ Calls  Churn?  \n",
       "0              1  False.  \n",
       "1              1  False.  \n",
       "2              0  False.  \n",
       "3              2  False.  \n",
       "4              3  False.  \n",
       "\n",
       "[5 rows x 21 columns]"
      ],
      "text/html": "<div>\n<style scoped>\n    .dataframe tbody tr th:only-of-type {\n        vertical-align: middle;\n    }\n\n    .dataframe tbody tr th {\n        vertical-align: top;\n    }\n\n    .dataframe thead th {\n        text-align: right;\n    }\n</style>\n<table border=\"1\" class=\"dataframe\">\n  <thead>\n    <tr style=\"text-align: right;\">\n      <th></th>\n      <th>State</th>\n      <th>Account Length</th>\n      <th>Area Code</th>\n      <th>Phone</th>\n      <th>Int'l Plan</th>\n      <th>VMail Plan</th>\n      <th>VMail Message</th>\n      <th>Day Mins</th>\n      <th>Day Calls</th>\n      <th>Day Charge</th>\n      <th>...</th>\n      <th>Eve Calls</th>\n      <th>Eve Charge</th>\n      <th>Night Mins</th>\n      <th>Night Calls</th>\n      <th>Night Charge</th>\n      <th>Intl Mins</th>\n      <th>Intl Calls</th>\n      <th>Intl Charge</th>\n      <th>CustServ Calls</th>\n      <th>Churn?</th>\n    </tr>\n  </thead>\n  <tbody>\n    <tr>\n      <th>0</th>\n      <td>KS</td>\n      <td>128</td>\n      <td>415</td>\n      <td>382-4657</td>\n      <td>no</td>\n      <td>yes</td>\n      <td>25</td>\n      <td>265.1</td>\n      <td>110</td>\n      <td>45.07</td>\n      <td>...</td>\n      <td>99</td>\n      <td>16.78</td>\n      <td>244.7</td>\n      <td>91</td>\n      <td>11.01</td>\n      <td>10.0</td>\n      <td>3</td>\n      <td>2.70</td>\n      <td>1</td>\n      <td>False.</td>\n    </tr>\n    <tr>\n      <th>1</th>\n      <td>OH</td>\n      <td>107</td>\n      <td>415</td>\n      <td>371-7191</td>\n      <td>no</td>\n      <td>yes</td>\n      <td>26</td>\n      <td>161.6</td>\n      <td>123</td>\n      <td>27.47</td>\n      <td>...</td>\n      <td>103</td>\n      <td>16.62</td>\n      <td>254.4</td>\n      <td>103</td>\n      <td>11.45</td>\n      <td>13.7</td>\n      <td>3</td>\n      <td>3.70</td>\n      <td>1</td>\n      <td>False.</td>\n    </tr>\n    <tr>\n      <th>2</th>\n      <td>NJ</td>\n      <td>137</td>\n      <td>415</td>\n      <td>358-1921</td>\n      <td>no</td>\n      <td>no</td>\n      <td>0</td>\n      <td>243.4</td>\n      <td>114</td>\n      <td>41.38</td>\n      <td>...</td>\n      <td>110</td>\n      <td>10.30</td>\n      <td>162.6</td>\n      <td>104</td>\n      <td>7.32</td>\n      <td>12.2</td>\n      <td>5</td>\n      <td>3.29</td>\n      <td>0</td>\n      <td>False.</td>\n    </tr>\n    <tr>\n      <th>3</th>\n      <td>OH</td>\n      <td>84</td>\n      <td>408</td>\n      <td>375-9999</td>\n      <td>yes</td>\n      <td>no</td>\n      <td>0</td>\n      <td>299.4</td>\n      <td>71</td>\n      <td>50.90</td>\n      <td>...</td>\n      <td>88</td>\n      <td>5.26</td>\n      <td>196.9</td>\n      <td>89</td>\n      <td>8.86</td>\n      <td>6.6</td>\n      <td>7</td>\n      <td>1.78</td>\n      <td>2</td>\n      <td>False.</td>\n    </tr>\n    <tr>\n      <th>4</th>\n      <td>OK</td>\n      <td>75</td>\n      <td>415</td>\n      <td>330-6626</td>\n      <td>yes</td>\n      <td>no</td>\n      <td>0</td>\n      <td>166.7</td>\n      <td>113</td>\n      <td>28.34</td>\n      <td>...</td>\n      <td>122</td>\n      <td>12.61</td>\n      <td>186.9</td>\n      <td>121</td>\n      <td>8.41</td>\n      <td>10.1</td>\n      <td>3</td>\n      <td>2.73</td>\n      <td>3</td>\n      <td>False.</td>\n    </tr>\n  </tbody>\n</table>\n<p>5 rows × 21 columns</p>\n</div>"
     },
     "metadata": {},
     "execution_count": 11
    }
   ],
   "source": [
    "df3 = pd.DataFrame(main_dict)\n",
    "df3.head()"
   ]
  },
  {
   "cell_type": "markdown",
   "metadata": {},
   "source": [
    "# Lectura y Escritura de ficheros"
   ]
  },
  {
   "cell_type": "code",
   "execution_count": 12,
   "metadata": {},
   "outputs": [],
   "source": [
    "infile = mainpath + \"customer-churn-model/Customer Churn Model.txt\"\n",
    "outfile = mainpath + \"customer-churn-model/Tab Customer Churn Model.txt\""
   ]
  },
  {
   "cell_type": "code",
   "execution_count": 13,
   "metadata": {},
   "outputs": [],
   "source": [
    "with open(infile, \"r\") as infile1:\n",
    "    with open(outfile, \"w\") as outfile1:\n",
    "        for line in infile1:\n",
    "            fields = line.strip().split(\",\")\n",
    "            outfile1.write(\"\\t\".join(fields))\n",
    "            outfile1.write(\"\\n\")"
   ]
  },
  {
   "cell_type": "code",
   "execution_count": 14,
   "metadata": {},
   "outputs": [
    {
     "output_type": "execute_result",
     "data": {
      "text/plain": [
       "  State  Account Length  Area Code     Phone Int'l Plan VMail Plan  \\\n",
       "0    KS             128        415  382-4657         no        yes   \n",
       "1    OH             107        415  371-7191         no        yes   \n",
       "2    NJ             137        415  358-1921         no         no   \n",
       "3    OH              84        408  375-9999        yes         no   \n",
       "4    OK              75        415  330-6626        yes         no   \n",
       "\n",
       "   VMail Message  Day Mins  Day Calls  Day Charge  ...  Eve Calls  Eve Charge  \\\n",
       "0             25     265.1        110       45.07  ...         99       16.78   \n",
       "1             26     161.6        123       27.47  ...        103       16.62   \n",
       "2              0     243.4        114       41.38  ...        110       10.30   \n",
       "3              0     299.4         71       50.90  ...         88        5.26   \n",
       "4              0     166.7        113       28.34  ...        122       12.61   \n",
       "\n",
       "   Night Mins  Night Calls  Night Charge  Intl Mins  Intl Calls  Intl Charge  \\\n",
       "0       244.7           91         11.01       10.0           3         2.70   \n",
       "1       254.4          103         11.45       13.7           3         3.70   \n",
       "2       162.6          104          7.32       12.2           5         3.29   \n",
       "3       196.9           89          8.86        6.6           7         1.78   \n",
       "4       186.9          121          8.41       10.1           3         2.73   \n",
       "\n",
       "   CustServ Calls  Churn?  \n",
       "0               1  False.  \n",
       "1               1  False.  \n",
       "2               0  False.  \n",
       "3               2  False.  \n",
       "4               3  False.  \n",
       "\n",
       "[5 rows x 21 columns]"
      ],
      "text/html": "<div>\n<style scoped>\n    .dataframe tbody tr th:only-of-type {\n        vertical-align: middle;\n    }\n\n    .dataframe tbody tr th {\n        vertical-align: top;\n    }\n\n    .dataframe thead th {\n        text-align: right;\n    }\n</style>\n<table border=\"1\" class=\"dataframe\">\n  <thead>\n    <tr style=\"text-align: right;\">\n      <th></th>\n      <th>State</th>\n      <th>Account Length</th>\n      <th>Area Code</th>\n      <th>Phone</th>\n      <th>Int'l Plan</th>\n      <th>VMail Plan</th>\n      <th>VMail Message</th>\n      <th>Day Mins</th>\n      <th>Day Calls</th>\n      <th>Day Charge</th>\n      <th>...</th>\n      <th>Eve Calls</th>\n      <th>Eve Charge</th>\n      <th>Night Mins</th>\n      <th>Night Calls</th>\n      <th>Night Charge</th>\n      <th>Intl Mins</th>\n      <th>Intl Calls</th>\n      <th>Intl Charge</th>\n      <th>CustServ Calls</th>\n      <th>Churn?</th>\n    </tr>\n  </thead>\n  <tbody>\n    <tr>\n      <th>0</th>\n      <td>KS</td>\n      <td>128</td>\n      <td>415</td>\n      <td>382-4657</td>\n      <td>no</td>\n      <td>yes</td>\n      <td>25</td>\n      <td>265.1</td>\n      <td>110</td>\n      <td>45.07</td>\n      <td>...</td>\n      <td>99</td>\n      <td>16.78</td>\n      <td>244.7</td>\n      <td>91</td>\n      <td>11.01</td>\n      <td>10.0</td>\n      <td>3</td>\n      <td>2.70</td>\n      <td>1</td>\n      <td>False.</td>\n    </tr>\n    <tr>\n      <th>1</th>\n      <td>OH</td>\n      <td>107</td>\n      <td>415</td>\n      <td>371-7191</td>\n      <td>no</td>\n      <td>yes</td>\n      <td>26</td>\n      <td>161.6</td>\n      <td>123</td>\n      <td>27.47</td>\n      <td>...</td>\n      <td>103</td>\n      <td>16.62</td>\n      <td>254.4</td>\n      <td>103</td>\n      <td>11.45</td>\n      <td>13.7</td>\n      <td>3</td>\n      <td>3.70</td>\n      <td>1</td>\n      <td>False.</td>\n    </tr>\n    <tr>\n      <th>2</th>\n      <td>NJ</td>\n      <td>137</td>\n      <td>415</td>\n      <td>358-1921</td>\n      <td>no</td>\n      <td>no</td>\n      <td>0</td>\n      <td>243.4</td>\n      <td>114</td>\n      <td>41.38</td>\n      <td>...</td>\n      <td>110</td>\n      <td>10.30</td>\n      <td>162.6</td>\n      <td>104</td>\n      <td>7.32</td>\n      <td>12.2</td>\n      <td>5</td>\n      <td>3.29</td>\n      <td>0</td>\n      <td>False.</td>\n    </tr>\n    <tr>\n      <th>3</th>\n      <td>OH</td>\n      <td>84</td>\n      <td>408</td>\n      <td>375-9999</td>\n      <td>yes</td>\n      <td>no</td>\n      <td>0</td>\n      <td>299.4</td>\n      <td>71</td>\n      <td>50.90</td>\n      <td>...</td>\n      <td>88</td>\n      <td>5.26</td>\n      <td>196.9</td>\n      <td>89</td>\n      <td>8.86</td>\n      <td>6.6</td>\n      <td>7</td>\n      <td>1.78</td>\n      <td>2</td>\n      <td>False.</td>\n    </tr>\n    <tr>\n      <th>4</th>\n      <td>OK</td>\n      <td>75</td>\n      <td>415</td>\n      <td>330-6626</td>\n      <td>yes</td>\n      <td>no</td>\n      <td>0</td>\n      <td>166.7</td>\n      <td>113</td>\n      <td>28.34</td>\n      <td>...</td>\n      <td>122</td>\n      <td>12.61</td>\n      <td>186.9</td>\n      <td>121</td>\n      <td>8.41</td>\n      <td>10.1</td>\n      <td>3</td>\n      <td>2.73</td>\n      <td>3</td>\n      <td>False.</td>\n    </tr>\n  </tbody>\n</table>\n<p>5 rows × 21 columns</p>\n</div>"
     },
     "metadata": {},
     "execution_count": 14
    }
   ],
   "source": [
    "df4 = pd.read_csv(outfile, sep=\"\\t\")\n",
    "df4.head()"
   ]
  },
  {
   "cell_type": "markdown",
   "metadata": {},
   "source": [
    "# Leer datos desde una URL"
   ]
  },
  {
   "cell_type": "code",
   "execution_count": 15,
   "metadata": {},
   "outputs": [],
   "source": [
    "medals_url = \"http://winterolympicsmedals.com/medals.csv\""
   ]
  },
  {
   "cell_type": "code",
   "execution_count": 16,
   "metadata": {},
   "outputs": [],
   "source": [
    "medals_data = pd.read_csv(medals_url)"
   ]
  },
  {
   "cell_type": "code",
   "execution_count": 17,
   "metadata": {},
   "outputs": [
    {
     "output_type": "execute_result",
     "data": {
      "text/plain": [
       "   Year      City       Sport      Discipline  NOC       Event Event gender  \\\n",
       "0  1924  Chamonix     Skating  Figure skating  AUT  individual            M   \n",
       "1  1924  Chamonix     Skating  Figure skating  AUT  individual            W   \n",
       "2  1924  Chamonix     Skating  Figure skating  AUT       pairs            X   \n",
       "3  1924  Chamonix   Bobsleigh       Bobsleigh  BEL    four-man            M   \n",
       "4  1924  Chamonix  Ice Hockey      Ice Hockey  CAN  ice hockey            M   \n",
       "\n",
       "    Medal  \n",
       "0  Silver  \n",
       "1    Gold  \n",
       "2    Gold  \n",
       "3  Bronze  \n",
       "4    Gold  "
      ],
      "text/html": "<div>\n<style scoped>\n    .dataframe tbody tr th:only-of-type {\n        vertical-align: middle;\n    }\n\n    .dataframe tbody tr th {\n        vertical-align: top;\n    }\n\n    .dataframe thead th {\n        text-align: right;\n    }\n</style>\n<table border=\"1\" class=\"dataframe\">\n  <thead>\n    <tr style=\"text-align: right;\">\n      <th></th>\n      <th>Year</th>\n      <th>City</th>\n      <th>Sport</th>\n      <th>Discipline</th>\n      <th>NOC</th>\n      <th>Event</th>\n      <th>Event gender</th>\n      <th>Medal</th>\n    </tr>\n  </thead>\n  <tbody>\n    <tr>\n      <th>0</th>\n      <td>1924</td>\n      <td>Chamonix</td>\n      <td>Skating</td>\n      <td>Figure skating</td>\n      <td>AUT</td>\n      <td>individual</td>\n      <td>M</td>\n      <td>Silver</td>\n    </tr>\n    <tr>\n      <th>1</th>\n      <td>1924</td>\n      <td>Chamonix</td>\n      <td>Skating</td>\n      <td>Figure skating</td>\n      <td>AUT</td>\n      <td>individual</td>\n      <td>W</td>\n      <td>Gold</td>\n    </tr>\n    <tr>\n      <th>2</th>\n      <td>1924</td>\n      <td>Chamonix</td>\n      <td>Skating</td>\n      <td>Figure skating</td>\n      <td>AUT</td>\n      <td>pairs</td>\n      <td>X</td>\n      <td>Gold</td>\n    </tr>\n    <tr>\n      <th>3</th>\n      <td>1924</td>\n      <td>Chamonix</td>\n      <td>Bobsleigh</td>\n      <td>Bobsleigh</td>\n      <td>BEL</td>\n      <td>four-man</td>\n      <td>M</td>\n      <td>Bronze</td>\n    </tr>\n    <tr>\n      <th>4</th>\n      <td>1924</td>\n      <td>Chamonix</td>\n      <td>Ice Hockey</td>\n      <td>Ice Hockey</td>\n      <td>CAN</td>\n      <td>ice hockey</td>\n      <td>M</td>\n      <td>Gold</td>\n    </tr>\n  </tbody>\n</table>\n</div>"
     },
     "metadata": {},
     "execution_count": 17
    }
   ],
   "source": [
    "medals_data.head()"
   ]
  },
  {
   "source": [
    "## Carga manual desde internet"
   ],
   "cell_type": "markdown",
   "metadata": {}
  },
  {
   "cell_type": "code",
   "execution_count": 18,
   "metadata": {},
   "outputs": [],
   "source": [
    "import csv\n",
    "import urllib"
   ]
  },
  {
   "cell_type": "code",
   "execution_count": 19,
   "metadata": {},
   "outputs": [],
   "source": [
    "response = urllib.request.urlopen(medals_url)\n",
    "data = response.read().decode('utf-8').split(\"\\n\")"
   ]
  },
  {
   "cell_type": "code",
   "execution_count": 20,
   "metadata": {},
   "outputs": [],
   "source": [
    "cr = csv.reader(data)"
   ]
  },
  {
   "cell_type": "code",
   "execution_count": 21,
   "metadata": {
    "tags": [
     "outputPrepend"
    ]
   },
   "outputs": [
    {
     "output_type": "stream",
     "name": "stdout",
     "text": [
      ", 'Turin', 'Skiing', 'Freestyle Ski.', 'AUS', 'aerials', 'W', 'Bronze']\n",
      "['2006', 'Turin', 'Skiing', 'Freestyle Ski.', 'AUS', 'moguls', 'M', 'Gold']\n",
      "['2006', 'Turin', 'Luge', 'Luge', 'AUT', 'doubles', 'X', 'Gold']\n",
      "['2006', 'Turin', 'Skiing', 'Alpine Skiing', 'AUT', 'Alpine combined', 'M', 'Bronze']\n",
      "['2006', 'Turin', 'Skiing', 'Alpine Skiing', 'AUT', 'Alpine combined', 'W', 'Silver']\n",
      "['2006', 'Turin', 'Skiing', 'Alpine Skiing', 'AUT', 'downhill', 'M', 'Silver']\n",
      "['2006', 'Turin', 'Skiing', 'Alpine Skiing', 'AUT', 'downhill', 'W', 'Gold']\n",
      "['2006', 'Turin', 'Skiing', 'Alpine Skiing', 'AUT', 'giant slalom', 'M', 'Bronze']\n",
      "['2006', 'Turin', 'Skiing', 'Alpine Skiing', 'AUT', 'giant slalom', 'M', 'Gold']\n",
      "['2006', 'Turin', 'Skiing', 'Alpine Skiing', 'AUT', 'slalom', 'M', 'Bronze']\n",
      "['2006', 'Turin', 'Skiing', 'Alpine Skiing', 'AUT', 'slalom', 'M', 'Gold']\n",
      "['2006', 'Turin', 'Skiing', 'Alpine Skiing', 'AUT', 'slalom', 'M', 'Silver']\n",
      "['2006', 'Turin', 'Skiing', 'Alpine Skiing', 'AUT', 'slalom', 'W', 'Bronze']\n",
      "['2006', 'Turin', 'Skiing', 'Alpine Skiing', 'AUT', 'slalom', 'W', 'Silver']\n",
      "['2006', 'Turin', 'Skiing', 'Alpine Skiing', 'AUT', 'super-G', 'M', 'Silver']\n",
      "['2006', 'Turin', 'Skiing', 'Alpine Skiing', 'AUT', 'super-G', 'W', 'Bronze']\n",
      "['2006', 'Turin', 'Skiing', 'Alpine Skiing', 'AUT', 'super-G', 'W', 'Gold']\n",
      "['2006', 'Turin', 'Skiing', 'Cross Country S', 'AUT', '50km', 'M', 'Bronze']\n",
      "['2006', 'Turin', 'Skiing', 'Nordic Combined', 'AUT', 'Individual', 'M', 'Silver']\n",
      "['2006', 'Turin', 'Skiing', 'Nordic Combined', 'AUT', 'Individual sprint', 'M', 'Gold']\n",
      "['2006', 'Turin', 'Skiing', 'Nordic Combined', 'AUT', 'Team', 'M', 'Gold']\n",
      "['2006', 'Turin', 'Skiing', 'Ski Jumping', 'AUT', 'K120 individual (90m)', 'M', 'Gold']\n",
      "['2006', 'Turin', 'Skiing', 'Ski Jumping', 'AUT', 'K120 individual (90m)', 'M', 'Silver']\n",
      "['2006', 'Turin', 'Skiing', 'Ski Jumping', 'AUT', 'K120 team (90m)', 'M', 'Gold']\n",
      "['2006', 'Turin', 'Skiing', 'Snowboard', 'AUT', 'Giant parallel slalom', 'M', 'Bronze']\n",
      "['2006', 'Turin', 'Skiing', 'Freestyle Ski.', 'BLR', 'aerials', 'M', 'Silver']\n",
      "['2006', 'Turin', 'Skating', 'Short Track S.', 'BUL', '500m', 'W', 'Silver']\n",
      "['2006', 'Turin', 'Bobsleigh', 'Bobsleigh', 'CAN', 'two-man', 'M', 'Silver']\n",
      "['2006', 'Turin', 'Bobsleigh', 'Skeleton', 'CAN', 'individual', 'M', 'Gold']\n",
      "['2006', 'Turin', 'Bobsleigh', 'Skeleton', 'CAN', 'individual', 'M', 'Silver']\n",
      "['2006', 'Turin', 'Bobsleigh', 'Skeleton', 'CAN', 'individual', 'W', 'Bronze']\n",
      "['2006', 'Turin', 'Curling', 'Curling', 'CAN', 'curling', 'M', 'Gold']\n",
      "['2006', 'Turin', 'Curling', 'Curling', 'CAN', 'curling', 'W', 'Bronze']\n",
      "['2006', 'Turin', 'Ice Hockey', 'Ice Hockey', 'CAN', 'ice hockey', 'W', 'Gold']\n",
      "['2006', 'Turin', 'Skating', 'Figure skating', 'CAN', 'individual', 'M', 'Bronze']\n",
      "['2006', 'Turin', 'Skating', 'Short Track S.', 'CAN', '3000m relay', 'W', 'Silver']\n",
      "['2006', 'Turin', 'Skating', 'Short Track S.', 'CAN', '5000m relay', 'M', 'Silver']\n",
      "['2006', 'Turin', 'Skating', 'Short Track S.', 'CAN', '500m', 'M', 'Silver']\n",
      "['2006', 'Turin', 'Skating', 'Short Track S.', 'CAN', '500m', 'W', 'Bronze']\n",
      "['2006', 'Turin', 'Skating', 'Speed skating', 'CAN', '1000m', 'W', 'Silver']\n",
      "['2006', 'Turin', 'Skating', 'Speed skating', 'CAN', '1500m', 'W', 'Gold']\n",
      "['2006', 'Turin', 'Skating', 'Speed skating', 'CAN', '1500m', 'W', 'Silver']\n",
      "['2006', 'Turin', 'Skating', 'Speed skating', 'CAN', '3000m', 'W', 'Bronze']\n",
      "['2006', 'Turin', 'Skating', 'Speed skating', 'CAN', '5000m', 'W', 'Bronze']\n",
      "['2006', 'Turin', 'Skating', 'Speed skating', 'CAN', '5000m', 'W', 'Gold']\n",
      "['2006', 'Turin', 'Skating', 'Speed skating', 'CAN', 'Team pursuit', 'M', 'Silver']\n",
      "['2006', 'Turin', 'Skating', 'Speed skating', 'CAN', 'Team pursuit', 'W', 'Silver']\n",
      "['2006', 'Turin', 'Skiing', 'Cross Country S', 'CAN', 'Sprint 1.5km', 'W', 'Gold']\n",
      "['2006', 'Turin', 'Skiing', 'Cross Country S', 'CAN', 'Team sprint', 'W', 'Silver']\n",
      "['2006', 'Turin', 'Skiing', 'Freestyle Ski.', 'CAN', 'moguls', 'W', 'Gold']\n",
      "['2006', 'Turin', 'Skiing', 'Snowboard', 'CAN', 'Snowboard Cross', 'W', 'Bronze']\n",
      "['2006', 'Turin', 'Skating', 'Figure skating', 'CHN', 'pairs', 'X', 'Bronze']\n",
      "['2006', 'Turin', 'Skating', 'Figure skating', 'CHN', 'pairs', 'X', 'Silver']\n",
      "['2006', 'Turin', 'Skating', 'Short Track S.', 'CHN', '1000m', 'W', 'Bronze']\n",
      "['2006', 'Turin', 'Skating', 'Short Track S.', 'CHN', '1000m', 'W', 'Silver']\n",
      "['2006', 'Turin', 'Skating', 'Short Track S.', 'CHN', '1500m', 'M', 'Bronze']\n",
      "['2006', 'Turin', 'Skating', 'Short Track S.', 'CHN', '1500m', 'W', 'Bronze']\n",
      "['2006', 'Turin', 'Skating', 'Short Track S.', 'CHN', '500m', 'W', 'Gold']\n",
      "['2006', 'Turin', 'Skating', 'Speed skating', 'CHN', '500m', 'W', 'Bronze']\n",
      "['2006', 'Turin', 'Skating', 'Speed skating', 'CHN', '500m', 'W', 'Silver']\n",
      "['2006', 'Turin', 'Skiing', 'Freestyle Ski.', 'CHN', 'aerials', 'M', 'Gold']\n",
      "['2006', 'Turin', 'Skiing', 'Freestyle Ski.', 'CHN', 'aerials', 'W', 'Silver']\n",
      "['2006', 'Turin', 'Skiing', 'Alpine Skiing', 'CRO', 'Alpine combined', 'M', 'Silver']\n",
      "['2006', 'Turin', 'Skiing', 'Alpine Skiing', 'CRO', 'Alpine combined', 'W', 'Gold']\n",
      "['2006', 'Turin', 'Skiing', 'Alpine Skiing', 'CRO', 'super-G', 'W', 'Silver']\n",
      "['2006', 'Turin', 'Ice Hockey', 'Ice Hockey', 'CZE', 'ice hockey', 'M', 'Bronze']\n",
      "['2006', 'Turin', 'Skiing', 'Cross Country S', 'CZE', '15km', 'M', 'Silver']\n",
      "['2006', 'Turin', 'Skiing', 'Cross Country S', 'CZE', '30km', 'W', 'Gold']\n",
      "['2006', 'Turin', 'Skiing', 'Cross Country S', 'CZE', 'Combined 7.5 + 7.5km mass start', 'W', 'Silver']\n",
      "['2006', 'Turin', 'Skiing', 'Cross Country S', 'EST', '10km', 'W', 'Gold']\n",
      "['2006', 'Turin', 'Skiing', 'Cross Country S', 'EST', '15km', 'M', 'Gold']\n",
      "['2006', 'Turin', 'Skiing', 'Cross Country S', 'EST', 'Combined 7.5 + 7.5km mass start', 'W', 'Gold']\n",
      "['2006', 'Turin', 'Curling', 'Curling', 'FIN', 'curling', 'M', 'Silver']\n",
      "['2006', 'Turin', 'Ice Hockey', 'Ice Hockey', 'FIN', 'ice hockey', 'M', 'Silver']\n",
      "['2006', 'Turin', 'Skiing', 'Alpine Skiing', 'FIN', 'giant slalom', 'W', 'Silver']\n",
      "['2006', 'Turin', 'Skiing', 'Cross Country S', 'FIN', 'Team sprint', 'W', 'Bronze']\n",
      "['2006', 'Turin', 'Skiing', 'Freestyle Ski.', 'FIN', 'moguls', 'M', 'Silver']\n",
      "['2006', 'Turin', 'Skiing', 'Nordic Combined', 'FIN', 'Team', 'M', 'Bronze']\n",
      "['2006', 'Turin', 'Skiing', 'Ski Jumping', 'FIN', 'K120 team (90m)', 'M', 'Silver']\n",
      "['2006', 'Turin', 'Skiing', 'Ski Jumping', 'FIN', 'K90 individual (70m)', 'M', 'Silver']\n",
      "['2006', 'Turin', 'Skiing', 'Snowboard', 'FIN', 'Half-pipe', 'M', 'Bronze']\n",
      "['2006', 'Turin', 'Biathlon', 'Biathlon', 'FRA', '12.5km pursuit', 'M', 'Gold']\n",
      "['2006', 'Turin', 'Biathlon', 'Biathlon', 'FRA', '4x6km relay', 'W', 'Bronze']\n",
      "['2006', 'Turin', 'Biathlon', 'Biathlon', 'FRA', '4x7.5km relay', 'M', 'Bronze']\n",
      "['2006', 'Turin', 'Biathlon', 'Biathlon', 'FRA', '7.5km', 'W', 'Gold']\n",
      "['2006', 'Turin', 'Skiing', 'Alpine Skiing', 'FRA', 'downhill', 'M', 'Gold']\n",
      "['2006', 'Turin', 'Skiing', 'Alpine Skiing', 'FRA', 'giant slalom', 'M', 'Silver']\n",
      "['2006', 'Turin', 'Skiing', 'Cross Country S', 'FRA', 'Sprint 1.5km', 'M', 'Silver']\n",
      "['2006', 'Turin', 'Skiing', 'Freestyle Ski.', 'FRA', 'moguls', 'W', 'Bronze']\n",
      "['2006', 'Turin', 'Skiing', 'Snowboard', 'FRA', 'Snowboard Cross', 'M', 'Bronze']\n",
      "['2006', 'Turin', 'Bobsleigh', 'Skeleton', 'GBR', 'individual', 'W', 'Silver']\n",
      "['2006', 'Turin', 'Biathlon', 'Biathlon', 'GER', '10km', 'M', 'Gold']\n",
      "['2006', 'Turin', 'Biathlon', 'Biathlon', 'GER', '10km pursuit', 'W', 'Gold']\n",
      "['2006', 'Turin', 'Biathlon', 'Biathlon', 'GER', '10km pursuit', 'W', 'Silver']\n",
      "['2006', 'Turin', 'Biathlon', 'Biathlon', 'GER', '12.5km mass start', 'W', 'Bronze']\n",
      "['2006', 'Turin', 'Biathlon', 'Biathlon', 'GER', '12.5km mass start', 'W', 'Silver']\n",
      "['2006', 'Turin', 'Biathlon', 'Biathlon', 'GER', '12.5km pursuit', 'M', 'Bronze']\n",
      "['2006', 'Turin', 'Biathlon', 'Biathlon', 'GER', '15km', 'W', 'Silver']\n",
      "['2006', 'Turin', 'Biathlon', 'Biathlon', 'GER', '15km mass start', 'M', 'Gold']\n",
      "['2006', 'Turin', 'Biathlon', 'Biathlon', 'GER', '20km', 'M', 'Gold']\n",
      "['2006', 'Turin', 'Biathlon', 'Biathlon', 'GER', '4x6km relay', 'W', 'Silver']\n",
      "['2006', 'Turin', 'Biathlon', 'Biathlon', 'GER', '4x7.5km relay', 'M', 'Gold']\n",
      "['2006', 'Turin', 'Bobsleigh', 'Bobsleigh', 'GER', 'four-man', 'M', 'Gold']\n",
      "['2006', 'Turin', 'Bobsleigh', 'Bobsleigh', 'GER', 'two-man', 'M', 'Gold']\n",
      "['2006', 'Turin', 'Bobsleigh', 'Bobsleigh', 'GER', 'two-man', 'W', 'Gold']\n",
      "['2006', 'Turin', 'Luge', 'Luge', 'GER', 'doubles', 'X', 'Silver']\n",
      "['2006', 'Turin', 'Luge', 'Luge', 'GER', 'singles', 'W', 'Bronze']\n",
      "['2006', 'Turin', 'Luge', 'Luge', 'GER', 'singles', 'W', 'Gold']\n",
      "['2006', 'Turin', 'Luge', 'Luge', 'GER', 'singles', 'W', 'Silver']\n",
      "['2006', 'Turin', 'Skating', 'Speed skating', 'GER', '1000m', 'W', 'Bronze']\n",
      "['2006', 'Turin', 'Skating', 'Speed skating', 'GER', '5000m', 'W', 'Silver']\n",
      "['2006', 'Turin', 'Skating', 'Speed skating', 'GER', 'Team pursuit', 'W', 'Gold']\n",
      "['2006', 'Turin', 'Skiing', 'Cross Country S', 'GER', '15km', 'M', 'Bronze']\n",
      "['2006', 'Turin', 'Skiing', 'Cross Country S', 'GER', '4x10km relay', 'M', 'Silver']\n",
      "['2006', 'Turin', 'Skiing', 'Cross Country S', 'GER', '4x5km relay', 'W', 'Silver']\n",
      "['2006', 'Turin', 'Skiing', 'Cross Country S', 'GER', 'sprint 1.5km', 'W', 'Silver']\n",
      "['2006', 'Turin', 'Skiing', 'Nordic Combined', 'GER', 'Individual', 'M', 'Gold']\n",
      "['2006', 'Turin', 'Skiing', 'Nordic Combined', 'GER', 'Individual sprint', 'M', 'Bronze']\n",
      "['2006', 'Turin', 'Skiing', 'Nordic Combined', 'GER', 'Team', 'M', 'Silver']\n",
      "['2006', 'Turin', 'Skiing', 'Snowboard', 'GER', 'Giant parallel slalom', 'W', 'Silver']\n",
      "['2006', 'Turin', 'Bobsleigh', 'Bobsleigh', 'ITA', 'two-man', 'W', 'Bronze']\n",
      "['2006', 'Turin', 'Luge', 'Luge', 'ITA', 'doubles', 'X', 'Bronze']\n",
      "['2006', 'Turin', 'Luge', 'Luge', 'ITA', 'singles', 'M', 'Gold']\n",
      "['2006', 'Turin', 'Skating', 'Short Track S.', 'ITA', '3000m relay', 'W', 'Bronze']\n",
      "['2006', 'Turin', 'Skating', 'Speed skating', 'ITA', '1500m', 'M', 'Gold']\n",
      "['2006', 'Turin', 'Skating', 'Speed skating', 'ITA', '5000m', 'M', 'Bronze']\n",
      "['2006', 'Turin', 'Skating', 'Speed skating', 'ITA', 'Team pursuit', 'M', 'Gold']\n",
      "['2006', 'Turin', 'Skiing', 'Cross Country S', 'ITA', '4x10km relay', 'M', 'Gold']\n",
      "['2006', 'Turin', 'Skiing', 'Cross Country S', 'ITA', '4x5km relay', 'W', 'Bronze']\n",
      "['2006', 'Turin', 'Skiing', 'Cross Country S', 'ITA', '50km', 'M', 'Gold']\n",
      "['2006', 'Turin', 'Skiing', 'Cross Country S', 'ITA', 'Combined 15 + 15km mass start', 'M', 'Bronze']\n",
      "['2006', 'Turin', 'Skating', 'Figure skating', 'JPN', 'individual', 'W', 'Gold']\n",
      "['2006', 'Turin', 'Skating', 'Short Track S.', 'KOR', '1000m', 'M', 'Gold']\n",
      "['2006', 'Turin', 'Skating', 'Short Track S.', 'KOR', '1000m', 'M', 'Silver']\n",
      "['2006', 'Turin', 'Skating', 'Short Track S.', 'KOR', '1000m', 'W', 'Gold']\n",
      "['2006', 'Turin', 'Skating', 'Short Track S.', 'KOR', '1500m', 'M', 'Gold']\n",
      "['2006', 'Turin', 'Skating', 'Short Track S.', 'KOR', '1500m', 'M', 'Silver']\n",
      "['2006', 'Turin', 'Skating', 'Short Track S.', 'KOR', '1500m', 'W', 'Gold']\n",
      "['2006', 'Turin', 'Skating', 'Short Track S.', 'KOR', '1500m', 'W', 'Silver']\n",
      "['2006', 'Turin', 'Skating', 'Short Track S.', 'KOR', '3000m relay', 'W', 'Gold']\n",
      "['2006', 'Turin', 'Skating', 'Short Track S.', 'KOR', '5000m relay', 'M', 'Gold']\n",
      "['2006', 'Turin', 'Skating', 'Short Track S.', 'KOR', '500m', 'M', 'Bronze']\n",
      "['2006', 'Turin', 'Skating', 'Speed skating', 'KOR', '500m', 'M', 'Bronze']\n",
      "['2006', 'Turin', 'Luge', 'Luge', 'LAT', 'singles', 'M', 'Bronze']\n",
      "['2006', 'Turin', 'Skating', 'Speed skating', 'NED', '10000m', 'M', 'Bronze']\n",
      "['2006', 'Turin', 'Skating', 'Speed skating', 'NED', '10000m', 'M', 'Gold']\n",
      "['2006', 'Turin', 'Skating', 'Speed skating', 'NED', '1000m', 'M', 'Bronze']\n",
      "['2006', 'Turin', 'Skating', 'Speed skating', 'NED', '1000m', 'W', 'Gold']\n",
      "['2006', 'Turin', 'Skating', 'Speed skating', 'NED', '1500m', 'W', 'Bronze']\n",
      "['2006', 'Turin', 'Skating', 'Speed skating', 'NED', '3000m', 'W', 'Gold']\n",
      "['2006', 'Turin', 'Skating', 'Speed skating', 'NED', '3000m', 'W', 'Silver']\n",
      "['2006', 'Turin', 'Skating', 'Speed skating', 'NED', '5000m', 'M', 'Silver']\n",
      "['2006', 'Turin', 'Skating', 'Speed skating', 'NED', 'Team pursuit', 'M', 'Bronze']\n",
      "['2006', 'Turin', 'Biathlon', 'Biathlon', 'NOR', '10km', 'M', 'Bronze']\n",
      "['2006', 'Turin', 'Biathlon', 'Biathlon', 'NOR', '10km', 'M', 'Silver']\n",
      "['2006', 'Turin', 'Biathlon', 'Biathlon', 'NOR', '12.5km pursuit', 'M', 'Silver']\n",
      "['2006', 'Turin', 'Biathlon', 'Biathlon', 'NOR', '15km mass start', 'M', 'Bronze']\n",
      "['2006', 'Turin', 'Biathlon', 'Biathlon', 'NOR', '20km', 'M', 'Bronze']\n",
      "['2006', 'Turin', 'Biathlon', 'Biathlon', 'NOR', '20km', 'M', 'Silver']\n",
      "['2006', 'Turin', 'Skiing', 'Alpine Skiing', 'NOR', 'super-G', 'M', 'Gold']\n",
      "['2006', 'Turin', 'Skiing', 'Cross Country S', 'NOR', '10km', 'W', 'Bronze']\n",
      "['2006', 'Turin', 'Skiing', 'Cross Country S', 'NOR', '10km', 'W', 'Silver']\n",
      "['2006', 'Turin', 'Skiing', 'Cross Country S', 'NOR', 'Combined 15 + 15km mass start', 'M', 'Silver']\n",
      "['2006', 'Turin', 'Skiing', 'Cross Country S', 'NOR', 'Team sprint', 'M', 'Silver']\n",
      "['2006', 'Turin', 'Skiing', 'Freestyle Ski.', 'NOR', 'moguls', 'W', 'Silver']\n",
      "['2006', 'Turin', 'Skiing', 'Nordic Combined', 'NOR', 'Individual', 'M', 'Bronze']\n",
      "['2006', 'Turin', 'Skiing', 'Nordic Combined', 'NOR', 'Individual sprint', 'M', 'Silver']\n",
      "['2006', 'Turin', 'Skiing', 'Ski Jumping', 'NOR', 'K120 individual (90m)', 'M', 'Bronze']\n",
      "['2006', 'Turin', 'Skiing', 'Ski Jumping', 'NOR', 'K120 team (90m)', 'M', 'Bronze']\n",
      "['2006', 'Turin', 'Skiing', 'Ski Jumping', 'NOR', 'K90 individual (70m)', 'M', 'Bronze']\n",
      "['2006', 'Turin', 'Skiing', 'Ski Jumping', 'NOR', 'K90 individual (70m)', 'M', 'Gold']\n",
      "['2006', 'Turin', 'Skiing', 'Snowboard', 'NOR', 'Half-pipe', 'W', 'Bronze']\n",
      "['2006', 'Turin', 'Biathlon', 'Biathlon', 'POL', '15km mass start', 'M', 'Silver']\n",
      "['2006', 'Turin', 'Skiing', 'Cross Country S', 'POL', '30km', 'W', 'Bronze']\n",
      "['2006', 'Turin', 'Biathlon', 'Biathlon', 'RUS', '10km pursuit', 'W', 'Bronze']\n",
      "['2006', 'Turin', 'Biathlon', 'Biathlon', 'RUS', '15km', 'W', 'Bronze']\n",
      "['2006', 'Turin', 'Biathlon', 'Biathlon', 'RUS', '15km', 'W', 'Gold']\n",
      "['2006', 'Turin', 'Biathlon', 'Biathlon', 'RUS', '4x6km relay', 'W', 'Gold']\n",
      "['2006', 'Turin', 'Biathlon', 'Biathlon', 'RUS', '4x7.5km relay', 'M', 'Silver']\n",
      "['2006', 'Turin', 'Bobsleigh', 'Bobsleigh', 'RUS', 'four-man', 'M', 'Silver']\n",
      "['2006', 'Turin', 'Luge', 'Luge', 'RUS', 'singles', 'M', 'Silver']\n",
      "['2006', 'Turin', 'Skating', 'Figure skating', 'RUS', 'ice dancing', 'X', 'Gold']\n",
      "['2006', 'Turin', 'Skating', 'Figure skating', 'RUS', 'individual', 'M', 'Gold']\n",
      "['2006', 'Turin', 'Skating', 'Figure skating', 'RUS', 'individual', 'W', 'Bronze']\n",
      "['2006', 'Turin', 'Skating', 'Figure skating', 'RUS', 'pairs', 'X', 'Gold']\n",
      "['2006', 'Turin', 'Skating', 'Speed skating', 'RUS', '500m', 'M', 'Silver']\n",
      "['2006', 'Turin', 'Skating', 'Speed skating', 'RUS', '500m', 'W', 'Gold']\n",
      "['2006', 'Turin', 'Skating', 'Speed skating', 'RUS', 'Team pursuit', 'W', 'Bronze']\n",
      "['2006', 'Turin', 'Skiing', 'Cross Country S', 'RUS', '30km', 'W', 'Silver']\n",
      "['2006', 'Turin', 'Skiing', 'Cross Country S', 'RUS', '4x5km relay', 'W', 'Gold']\n",
      "['2006', 'Turin', 'Skiing', 'Cross Country S', 'RUS', '50km', 'M', 'Silver']\n",
      "['2006', 'Turin', 'Skiing', 'Cross Country S', 'RUS', 'Combined 15 + 15km mass start', 'M', 'Gold']\n",
      "['2006', 'Turin', 'Skiing', 'Cross Country S', 'RUS', 'Combined 7.5 + 7.5km mass start', 'W', 'Bronze']\n",
      "['2006', 'Turin', 'Skiing', 'Cross Country S', 'RUS', 'sprint 1.5km', 'W', 'Bronze']\n",
      "['2006', 'Turin', 'Skiing', 'Cross Country S', 'RUS', 'Team sprint', 'M', 'Bronze']\n",
      "['2006', 'Turin', 'Skiing', 'Freestyle Ski.', 'RUS', 'aerials', 'M', 'Bronze']\n",
      "['2006', 'Turin', 'Bobsleigh', 'Bobsleigh', 'SUI', 'four-man', 'M', 'Bronze']\n",
      "['2006', 'Turin', 'Bobsleigh', 'Bobsleigh', 'SUI', 'two-man', 'M', 'Bronze']\n",
      "['2006', 'Turin', 'Bobsleigh', 'Skeleton', 'SUI', 'individual', 'M', 'Bronze']\n",
      "['2006', 'Turin', 'Bobsleigh', 'Skeleton', 'SUI', 'individual', 'W', 'Gold']\n",
      "['2006', 'Turin', 'Curling', 'Curling', 'SUI', 'curling', 'W', 'Silver']\n",
      "['2006', 'Turin', 'Skating', 'Figure skating', 'SUI', 'individual', 'M', 'Silver']\n",
      "['2006', 'Turin', 'Skiing', 'Alpine Skiing', 'SUI', 'downhill', 'M', 'Bronze']\n",
      "['2006', 'Turin', 'Skiing', 'Alpine Skiing', 'SUI', 'downhill', 'W', 'Silver']\n",
      "['2006', 'Turin', 'Skiing', 'Alpine Skiing', 'SUI', 'super-G', 'M', 'Bronze']\n",
      "['2006', 'Turin', 'Skiing', 'Freestyle Ski.', 'SUI', 'aerials', 'W', 'Gold']\n",
      "['2006', 'Turin', 'Skiing', 'Snowboard', 'SUI', 'Giant parallel slalom', 'M', 'Gold']\n",
      "['2006', 'Turin', 'Skiing', 'Snowboard', 'SUI', 'Giant parallel slalom', 'M', 'Silver']\n",
      "['2006', 'Turin', 'Skiing', 'Snowboard', 'SUI', 'Giant parallel slalom', 'W', 'Gold']\n",
      "['2006', 'Turin', 'Skiing', 'Snowboard', 'SUI', 'Snowboard Cross', 'W', 'Gold']\n",
      "['2006', 'Turin', 'Skiing', 'Snowboard', 'SVK', 'Snowboard Cross', 'M', 'Silver']\n",
      "['2006', 'Turin', 'Biathlon', 'Biathlon', 'SWE', '12.5km mass start', 'W', 'Gold']\n",
      "['2006', 'Turin', 'Biathlon', 'Biathlon', 'SWE', '7.5km', 'W', 'Silver']\n",
      "['2006', 'Turin', 'Curling', 'Curling', 'SWE', 'curling', 'W', 'Gold']\n",
      "['2006', 'Turin', 'Ice Hockey', 'Ice Hockey', 'SWE', 'ice hockey', 'M', 'Gold']\n",
      "['2006', 'Turin', 'Ice Hockey', 'Ice Hockey', 'SWE', 'ice hockey', 'W', 'Silver']\n",
      "['2006', 'Turin', 'Skiing', 'Alpine Skiing', 'SWE', 'Alpine combined', 'W', 'Bronze']\n",
      "['2006', 'Turin', 'Skiing', 'Alpine Skiing', 'SWE', 'downhill', 'W', 'Bronze']\n",
      "['2006', 'Turin', 'Skiing', 'Alpine Skiing', 'SWE', 'giant slalom', 'W', 'Bronze']\n",
      "['2006', 'Turin', 'Skiing', 'Alpine Skiing', 'SWE', 'slalom', 'W', 'Gold']\n",
      "['2006', 'Turin', 'Skiing', 'Cross Country S', 'SWE', '4x10km relay', 'M', 'Bronze']\n",
      "['2006', 'Turin', 'Skiing', 'Cross Country S', 'SWE', 'Sprint 1.5km', 'M', 'Bronze']\n",
      "['2006', 'Turin', 'Skiing', 'Cross Country S', 'SWE', 'Sprint 1.5km', 'M', 'Gold']\n",
      "['2006', 'Turin', 'Skiing', 'Cross Country S', 'SWE', 'Team sprint', 'M', 'Gold']\n",
      "['2006', 'Turin', 'Skiing', 'Cross Country S', 'SWE', 'Team sprint', 'W', 'Gold']\n",
      "['2006', 'Turin', 'Biathlon', 'Biathlon', 'UKR', '7.5km', 'W', 'Bronze']\n",
      "['2006', 'Turin', 'Skating', 'Figure skating', 'UKR', 'ice dancing', 'X', 'Bronze']\n",
      "['2006', 'Turin', 'Bobsleigh', 'Bobsleigh', 'USA', 'two-man', 'W', 'Silver']\n",
      "['2006', 'Turin', 'Curling', 'Curling', 'USA', 'curling', 'M', 'Bronze']\n",
      "['2006', 'Turin', 'Ice Hockey', 'Ice Hockey', 'USA', 'ice hockey', 'W', 'Bronze']\n",
      "['2006', 'Turin', 'Skating', 'Figure skating', 'USA', 'ice dancing', 'X', 'Silver']\n",
      "['2006', 'Turin', 'Skating', 'Figure skating', 'USA', 'individual', 'W', 'Silver']\n",
      "['2006', 'Turin', 'Skating', 'Short Track S.', 'USA', '1000m', 'M', 'Bronze']\n",
      "['2006', 'Turin', 'Skating', 'Short Track S.', 'USA', '5000m relay', 'M', 'Bronze']\n",
      "['2006', 'Turin', 'Skating', 'Short Track S.', 'USA', '500m', 'M', 'Gold']\n",
      "['2006', 'Turin', 'Skating', 'Speed skating', 'USA', '10000m', 'M', 'Silver']\n",
      "['2006', 'Turin', 'Skating', 'Speed skating', 'USA', '1000m', 'M', 'Gold']\n",
      "['2006', 'Turin', 'Skating', 'Speed skating', 'USA', '1000m', 'M', 'Silver']\n",
      "['2006', 'Turin', 'Skating', 'Speed skating', 'USA', '1500m', 'M', 'Bronze']\n",
      "['2006', 'Turin', 'Skating', 'Speed skating', 'USA', '1500m', 'M', 'Silver']\n",
      "['2006', 'Turin', 'Skating', 'Speed skating', 'USA', '5000m', 'M', 'Gold']\n",
      "['2006', 'Turin', 'Skating', 'Speed skating', 'USA', '500m', 'M', 'Gold']\n",
      "['2006', 'Turin', 'Skiing', 'Alpine Skiing', 'USA', 'Alpine combined', 'M', 'Gold']\n",
      "['2006', 'Turin', 'Skiing', 'Alpine Skiing', 'USA', 'giant slalom', 'W', 'Gold']\n",
      "['2006', 'Turin', 'Skiing', 'Freestyle Ski.', 'USA', 'moguls', 'M', 'Bronze']\n",
      "['2006', 'Turin', 'Skiing', 'Snowboard', 'USA', 'Giant parallel slalom', 'W', 'Bronze']\n",
      "['2006', 'Turin', 'Skiing', 'Snowboard', 'USA', 'Half-pipe', 'M', 'Gold']\n",
      "['2006', 'Turin', 'Skiing', 'Snowboard', 'USA', 'Half-pipe', 'M', 'Silver']\n",
      "['2006', 'Turin', 'Skiing', 'Snowboard', 'USA', 'Half-pipe', 'W', 'Gold']\n",
      "['2006', 'Turin', 'Skiing', 'Snowboard', 'USA', 'Half-pipe', 'W', 'Silver']\n",
      "['2006', 'Turin', 'Skiing', 'Snowboard', 'USA', 'Snowboard Cross', 'M', 'Gold']\n",
      "['2006', 'Turin', 'Skiing', 'Snowboard', 'USA', 'Snowboard Cross', 'W', 'Silver']\n"
     ]
    }
   ],
   "source": [
    "for row in cr:\n",
    "    print(row)"
   ]
  },
  {
   "cell_type": "markdown",
   "metadata": {},
   "source": [
    "# Ficheros XLS y XLSX"
   ]
  },
  {
   "cell_type": "code",
   "execution_count": 22,
   "metadata": {},
   "outputs": [],
   "source": [
    "mainpath = \"/home/diego/Development/machine-learning/curso-joanbi/python-ml-course/datasets/\"\n",
    "filename = \"titanic/titanic3.xls\""
   ]
  },
  {
   "cell_type": "code",
   "execution_count": 23,
   "metadata": {},
   "outputs": [],
   "source": [
    "titanic2 = pd.read_excel(mainpath + filename, \"titanic3\")"
   ]
  },
  {
   "cell_type": "code",
   "execution_count": 24,
   "metadata": {},
   "outputs": [],
   "source": [
    "titanic3 = pd.read_excel(mainpath + filename, \"titanic3\")"
   ]
  },
  {
   "cell_type": "code",
   "execution_count": 25,
   "metadata": {},
   "outputs": [],
   "source": [
    "titanic3.to_csv(mainpath + \"titanic/titanic_custom.csv\")"
   ]
  },
  {
   "cell_type": "code",
   "execution_count": null,
   "metadata": {},
   "outputs": [],
   "source": []
  }
 ],
 "metadata": {
  "kernelspec": {
   "display_name": "Python 3.9.1 64-bit ('mlenv': venv)",
   "language": "python",
   "name": "python39164bitmlenvvenv84122a08129a44a6a0f038aef2687af1"
  },
  "language_info": {
   "codemirror_mode": {
    "name": "ipython",
    "version": 3
   },
   "file_extension": ".py",
   "mimetype": "text/x-python",
   "name": "python",
   "nbconvert_exporter": "python",
   "pygments_lexer": "ipython3",
   "version": "3.9.1-final"
  }
 },
 "nbformat": 4,
 "nbformat_minor": 4
}